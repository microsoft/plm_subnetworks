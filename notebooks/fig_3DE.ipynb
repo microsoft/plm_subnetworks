{
 "cells": [
  {
   "cell_type": "code",
   "execution_count": null,
   "id": "fcaf69af",
   "metadata": {},
   "outputs": [],
   "source": [
    "import pandas as pd\n",
    "\n",
    "from plm_inv_subnetworks.dataset import data_io\n",
    "from plm_inv_subnetworks.dataset.cath_dataset import get_cath_db\n",
    "from plm_inv_subnetworks.dataset.data_paths import PDB_DIR, ESMFOLD_650M_PDBS, ESM_PPL_METRICS, ESM_TMALIGN_METRICS\n",
    "\n",
    "RUN_DIR_PREFIX = \"../results/inverse_subnetworks\" # Change this to runs/ if evaluating new trained subnetworks"
   ]
  },
  {
   "cell_type": "code",
   "execution_count": null,
   "id": "654ad2d1",
   "metadata": {},
   "outputs": [],
   "source": [
    "\n",
    "ESM_PPL = pd.read_csv(ESM_PPL_METRICS)\n",
    "ESM_TMALIGN = pd.read_csv(ESM_TMALIGN_METRICS)\n",
    "ESM_PPL = ESM_PPL.groupby(\"cath_id\", as_index=False)[ESM_PPL.select_dtypes(include=\"number\").columns].mean()\n",
    "ESM_GT = pd.merge(ESM_PPL, ESM_TMALIGN, on=\"cath_id\")\n",
    "\n",
    "db = get_cath_db()"
   ]
  },
  {
   "cell_type": "code",
   "execution_count": 8,
   "id": "f5430ed5",
   "metadata": {},
   "outputs": [],
   "source": [
    "def add_split(df, split):\n",
    "    df[\"split\"] = df[\"cath_id\"].apply(\n",
    "    lambda x: (\n",
    "        \"train\" if x in split.get(\"train\", []) else\n",
    "        \"val\" if x in split.get(\"val\", []) else\n",
    "        \"test\" if x in split.get(\"test\", []) else\n",
    "        None\n",
    "    )\n",
    "    )\n",
    "    return df"
   ]
  },
  {
   "cell_type": "code",
   "execution_count": 18,
   "id": "d9c6987e",
   "metadata": {},
   "outputs": [],
   "source": [
    "def load_suppression_df(run_dir, db):\n",
    "    base_path = f\"{RUN_DIR_PREFIX}/{run_dir}\"\n",
    "    \n",
    "    # Updated PPL path\n",
    "    ppl_path = f\"{base_path}/perplexity.csv\"\n",
    "    ppl_df = pd.read_csv(ppl_path).groupby(\"cath_id\", as_index=False).mean()\n",
    "    \n",
    "    # TM-score path\n",
    "    tm_path = f\"{base_path}/tmalign.csv\"\n",
    "    tm_df = pd.read_csv(tm_path)\n",
    "\n",
    "    # Merge and hydrate\n",
    "    df = pd.merge(tm_df, ppl_df, on=\"cath_id\")\n",
    "    df = data_io.hydrate_df_with_cath_terms(df, db)\n",
    "    \n",
    "    # Split assignment\n",
    "    config, split = data_io.get_args_split(base_path)\n",
    "    df = add_split(df, split)\n",
    "    \n",
    "    return df[df[\"split\"] == \"val\"]\n",
    "\n",
    "# Load all suppression datasets\n",
    "SUPPRESS_SEQ_ALPHA = load_suppression_df(\"class_1\", db)\n",
    "SUPPRESS_SEQ_BETA  = load_suppression_df(\"class_2\", db)\n",
    "SUPPRESS_RES_ALPHA = load_suppression_df(\"residue_1\", db)\n",
    "SUPPRESS_RES_BETA  = load_suppression_df(\"residue_2\", db)\n"
   ]
  },
  {
   "cell_type": "markdown",
   "id": "0f8b59f2",
   "metadata": {},
   "source": [
    "### Inspect predictions and choose structures to visualize "
   ]
  },
  {
   "cell_type": "code",
   "execution_count": null,
   "id": "3e16fb64",
   "metadata": {},
   "outputs": [
    {
     "name": "stdout",
     "output_type": "stream",
     "text": [
      "ESM      perplexity  TM-score  RMSD  pLDDT\n",
      "151        9.48      0.79  1.93  70.38\n",
      "SUB     perplexity  TM-score  RMSD  pLDDT\n",
      "26        8.99      0.76  2.11  70.09\n",
      "scp rvinod@ssh.ccv.brown.edu:../results/inverse_subnetworks/class_1/pred/1bdyA00.pdb ~/Downloads/class_1_pred_1bdyA00.pdb\n",
      "\n",
      "scp rvinod@ssh.ccv.brown.edu:../data/esmfold_650M/pdbs/1bdyA00.pdb ~/Downloads/class_1_esm_1bdyA00.pdb\n",
      "\n",
      "scp rvinod@ssh.ccv.brown.edu:../data/dompdb_chain/1bdyA00.pdb ~/Downloads/class_1_pdb_1bdyA00.pdb\n"
     ]
    }
   ],
   "source": [
    "YOUR_FOLDED_PROTEIN_DIR = None # Set this to the directory where your inverse subnetwork-predicted structures are stored\n",
    "\n",
    "# We only use IDs in the heldout set of each model in the paper: 1avcA07, 1bdyA00, 1am2A00, 1bccG00\n",
    "\n",
    "cath_id = \"1bdyA00\"\n",
    "DF = SUPPRESS_SEQ_ALPHA\n",
    "RUN_DIR = \"class_1\"\n",
    "\n",
    "print(\"ESM\", ESM_GT[ESM_GT[\"cath_id\"] == cath_id][[\"perplexity\", \"TM-score\", \"RMSD\", \"pLDDT\"]].round(2))\n",
    "print(\"SUB\", DF[DF[\"cath_id\"] == cath_id][[\"perplexity\", \"TM-score\", \"RMSD\", \"pLDDT\"]].round(2))\n",
    "\n",
    "\n",
    "print(f\"scp rvinod@ssh.ccv.brown.edu:{RUN_DIR_PREFIX}/{RUN_DIR}/{YOUR_FOLDED_PROTEIN_DIR}/{cath_id}.pdb ~/Downloads/{RUN_DIR}_pred_{cath_id}.pdb\")\n",
    "print()\n",
    "print(f\"scp rvinod@ssh.ccv.brown.edu:{ESMFOLD_650M_PDBS}/{cath_id}.pdb ~/Downloads/{RUN_DIR}_esm_{cath_id}.pdb\")\n",
    "print()\n",
    "print(f\"scp rvinod@ssh.ccv.brown.edu:{PDB_DIR}/{cath_id}.pdb ~/Downloads/{RUN_DIR}_pdb_{cath_id}.pdb\")\n"
   ]
  },
  {
   "cell_type": "code",
   "execution_count": null,
   "id": "06da68e3",
   "metadata": {},
   "outputs": [],
   "source": [
    "# Use this palette for pymol viz\n",
    "\n",
    "# https://kpwulab.com/2023/03/09/color-alphafold2s-plddt/\n",
    "# Using AlphaFold2 colors (from https://github.com/sokrypton/ColabFold)\n",
    "\n",
    "# set_color n0, [0.051, 0.341, 0.827]\n",
    "# set_color n1, [0.416, 0.796, 0.945]\n",
    "# set_color n2, [0.996, 0.851, 0.212]\n",
    "# set_color n3, [0.992, 0.490, 0.302]\n",
    "# color n0, b < 100; color n1, b < 90\n",
    "# color n2, b < 70;  color n3, b < 50"
   ]
  },
  {
   "cell_type": "code",
   "execution_count": null,
   "id": "870192bc",
   "metadata": {},
   "outputs": [],
   "source": []
  },
  {
   "cell_type": "code",
   "execution_count": null,
   "id": "910f48da",
   "metadata": {},
   "outputs": [],
   "source": []
  }
 ],
 "metadata": {
  "kernelspec": {
   "display_name": "h100env",
   "language": "python",
   "name": "python3"
  },
  "language_info": {
   "codemirror_mode": {
    "name": "ipython",
    "version": 3
   },
   "file_extension": ".py",
   "mimetype": "text/x-python",
   "name": "python",
   "nbconvert_exporter": "python",
   "pygments_lexer": "ipython3",
   "version": "3.9.16"
  }
 },
 "nbformat": 4,
 "nbformat_minor": 5
}
